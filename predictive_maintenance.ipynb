{
 "cells": [
  {
   "cell_type": "markdown",
   "metadata": {},
   "source": [
    "# Predictive Maintenance for Trucks\n",
    "## Project Goal\n",
    "This notebook aims to analyze historical data from a fleet of trucks to predict the probability of mechanical failure. By doing so, we can move from a reactive to a proactive maintenance strategy, reducing costs and increasing fleet reliability.\n",
    "\n",
    "## Notebook Outline\n",
    "1.  **Data Loading and Initial Exploration:** Load the datasets and perform a preliminary analysis.\n",
    "2.  **Exploratory Data Analysis (EDA):** Dive deeper into the data to uncover patterns and insights.\n",
    "3.  **Data Preprocessing and Feature Engineering:** Prepare the data for machine learning.\n",
    "4.  **Model Training:** Train and evaluate several machine learning models.\n",
    "5.  **Prediction:** Use the best model to make predictions."
   ]
  },
  {
   "cell_type": "code",
   "execution_count": null,
   "metadata": {},
   "outputs": [],
   "source": [
    "import pandas as pd\n",
    "import numpy as np\n",
    "import matplotlib.pyplot as plt\n",
    "import seaborn as sns\n",
    "\n",
    "sns.set(style=\"whitegrid\")"
   ]
  },
  {
   "cell_type": "markdown",
   "metadata": {},
   "source": [
    "### 1. Data Loading and Initial Exploration"
   ]
  },
  {
   "cell_type": "code",
   "execution_count": null,
   "metadata": {},
   "outputs": [],
   "source": [
    "vehicle_info_df = pd.read_csv('sample_data/vehicle_info.csv')\n",
    "maintenance_logs_df = pd.read_csv('sample_data/maintenance_logs.csv')\n",
    "sensor_data_df = pd.read_csv('sample_data/sensor_data.csv')\n",
    "driver_behavior_df = pd.read_csv('sample_data/driver_behavior.csv')"
   ]
  },
  {
   "cell_type": "markdown",
   "metadata": {},
   "source": [
    "The four datasets generated previously have been loaded into pandas DataFrames."
   ]
  },
  {
   "cell_type": "code",
   "execution_count": null,
   "metadata": {},
   "outputs": [],
   "source": [
    "print(\"Vehicle Information:\")\n",
    "display(vehicle_info_df.head())\n",
    "print(\"\nMaintenance Logs:\")\n",
    "display(maintenance_logs_df.head())\n",
    "print(\"\nSensor Data:\")\n",
    "display(sensor_data_df.head())\n",
    "print(\"\nDriver Behavior:\")\n",
    "display(driver_behavior_df.head())"
   ]
  },
  {
   "cell_type": "markdown",
   "metadata": {},
   "source": [
    "A quick look at the first few rows of each DataFrame to ensure they are loaded correctly."
   ]
  },
  {
   "cell_type": "code",
   "execution_count": null,
   "metadata": {},
   "outputs": [],
   "source": [
    "print(\"Vehicle Information Info:\")\n",
    "vehicle_info_df.info()\n",
    "print(\"\nMaintenance Logs Info:\")\n",
    "maintenance_logs_df.info()\n",
    "print(\"\nSensor Data Info:\")\n",
    "sensor_data_df.info()\n",
    "print(\"\nDriver Behavior Info:\")\n",
    "driver_behavior_df.info()"
   ]
  },
  {
   "cell_type": "markdown",
   "metadata": {},
   "source": [
    "Displaying the summary of each DataFrame, including the data types and non-null counts for each column."
   ]
  },
  {
   "cell_type": "code",
   "execution_count": null,
   "metadata": {},
   "outputs": [],
   "source": [
    "print(\"Vehicle Information Stats:\")\n",
    "display(vehicle_info_df.describe())\n",
    "print(\"\nMaintenance Logs Stats:\")\n",
    "display(maintenance_logs_df.describe())\n",
    "print(\"\nSensor Data Stats:\")\n",
    "display(sensor_data_df.describe())\n",
    "print(\"\nDriver Behavior Stats:\")\n",
    "display(driver_behavior_df.describe())"
   ]
  },
  {
   "cell_type": "markdown",
   "metadata": {},
   "source": [
    "Descriptive statistics for the numerical columns in each DataFrame."
   ]
  },
  {
   "cell_type": "markdown",
   "metadata": {},
   "source": [
    "### 2. Exploratory Data Analysis (EDA)"
   ]
  },
  {
   "cell_type": "markdown",
   "metadata": {},
   "source": [
    "#### Vehicle Information Analysis"
   ]
  },
  {
   "cell_type": "code",
   "execution_count": null,
   "metadata": {},
   "outputs": [],
   "source": [
    "plt.figure(figsize=(10, 6))\n",
    "sns.countplot(x='model', data=vehicle_info_df, palette='viridis')\n",
    "plt.title('Distribution of Truck Models')\n",
    "plt.xlabel('Truck Model')\n",
    "plt.ylabel('Count')\n",
    "plt.show()"
   ]
  },
  {
   "cell_type": "code",
   "execution_count": null,
   "metadata": {},
   "outputs": [],
   "source": [
    "plt.figure(figsize=(10, 6))\n",
    "sns.histplot(vehicle_info_df['total_mileage'], kde=True, bins=20, color='blue')\n",
    "plt.title('Distribution of Total Mileage')\n",
    "plt.xlabel('Total Mileage')\n",
    "plt.ylabel('Frequency')\n",
    "plt.show()"
   ]
  },
  {
   "cell_type": "markdown",
   "metadata": {},
   "source": [
    "#### Maintenance Log Analysis"
   ]
  },
  {
   "cell_type": "code",
   "execution_count": null,
   "metadata": {},
   "outputs": [],
   "source": [
    "plt.figure(figsize=(10, 6))\n",
    "sns.countplot(y='reason', data=maintenance_logs_df, palette='plasma', order = maintenance_logs_df['reason'].value_counts().index)\n",
    "plt.title('Reasons for Maintenance')\n",
    "plt.xlabel('Count')\n",
    "plt.ylabel('Reason')\n",
    "plt.show()"
   ]
  },
  {
   "cell_type": "code",
   "execution_count": null,
   "metadata": {},
   "outputs": [],
   "source": [
    "plt.figure(figsize=(10, 6))\n",
    "sns.countplot(y='part_replaced', data=maintenance_logs_df, palette='magma', order = maintenance_logs_df['part_replaced'].value_counts().index)\n",
    "plt.title('Parts Replaced During Maintenance')\n",
    "plt.xlabel('Count')\n",
    "plt.ylabel('Part Replaced')\n",
    "plt.show()"
   ]
  },
  {
   "cell_type": "markdown",
   "metadata": {},
   "source": [
    "#### Sensor Data Analysis"
   ]
  },
  {
   "cell_type": "code",
   "execution_count": null,
   "metadata": {},
   "outputs": [],
   "source": [
    "fig, axes = plt.subplots(2, 2, figsize=(15, 12))\n",
    "fig.suptitle('Distribution of Sensor Readings')\n",
    "\n",
    "sns.histplot(sensor_data_df['engine_temp'], kde=True, ax=axes[0, 0], color='red')\n",
    "axes[0, 0].set_title('Engine Temperature')\n",
    "\n",
    "sns.histplot(sensor_data_df['oil_pressure'], kde=True, ax=axes[0, 1], color='green')\n",
    "axes[0, 1].set_title('Oil Pressure')\n",
    "\n",
    "sns.histplot(sensor_data_df['tire_pressure'], kde=True, ax=axes[1, 0], color='purple')\n",
    "axes[1, 0].set_title('Tire Pressure')\n",
    "\n",
    "sns.histplot(sensor_data_df['vibration'], kde=True, ax=axes[1, 1], color='orange')\n",
    "axes[1, 1].set_title('Vibration')\n",
    "\n",
    "plt.tight_layout(rect=[0, 0, 1, 0.95])\n",
    "plt.show()"
   ]
  },
  {
   "cell_type": "markdown",
   "metadata": {},
   "source": [
    "#### Driver Behavior Analysis"
   ]
  },
  {
   "cell_type": "code",
   "execution_count": null,
   "metadata": {},
   "outputs": [],
   "source": [
    "plt.figure(figsize=(10, 6))\n",
    "sns.countplot(x='event', data=driver_behavior_df, palette='coolwarm')\n",
    "plt.title('Driver Behavior Events')\n",
    "plt.xlabel('Event Type')\n",
    "plt.ylabel('Count')\n",
    "plt.show()"
   ]
  },
  {
   "cell_type": "markdown",
   "metadata": {},
   "source": [
    "### Initial EDA Findings\n",
    "- The distribution of truck models is fairly even.\n",
    "- Total mileage has a wide distribution, with some trucks having significantly higher mileage.\n",
    "- The most common reason for maintenance is \"Failure\", which highlights the importance of this project.\n",
    